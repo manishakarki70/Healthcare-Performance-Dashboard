{
 "cells": [
  {
   "cell_type": "markdown",
   "id": "3444b44a",
   "metadata": {},
   "source": [
    "# ---------------------------------------------\n",
    "# 🏥 Synthetic Hospital Performance Dataset Generator\n",
    "# ---------------------------------------------\n",
    "# This script generates 5 synthetic datasets for a hospital performance dashboard.\n",
    "# The datasets include information about patients, doctors, departments, and their performance metrics.\n",
    "# The generated datasets are saved in CSV format for loading into Power BI.\n",
    "# ---------------------------------------------"
   ]
  },
  {
   "cell_type": "code",
   "execution_count": 2,
   "id": "daef4d59",
   "metadata": {},
   "outputs": [],
   "source": [
    "import pandas as pd\n",
    "import numpy as np\n",
    "from faker import Faker\n",
    "import random\n",
    "import os"
   ]
  },
  {
   "cell_type": "code",
   "execution_count": 3,
   "id": "4b8e6490",
   "metadata": {},
   "outputs": [],
   "source": [
    "# Initialize Faker\n",
    "fake = Faker()\n",
    "\n",
    "# Set a random seed for reproducibility\n",
    "np.random.seed(42)\n",
    "random.seed(42)\n",
    "\n",
    "# 📁 Create output folder\n",
    "output_folder = \"Healthcare_Datasets\"\n",
    "os.makedirs(output_folder, exist_ok=True)"
   ]
  },
  {
   "cell_type": "code",
   "execution_count": 35,
   "id": "3d30e94c",
   "metadata": {},
   "outputs": [
    {
     "name": "stdout",
     "output_type": "stream",
     "text": [
      "Department Table Created\n",
      "   DepartmentID DepartmentName  BedCapacity\n",
      "0             1     Cardiology           55\n",
      "1             2      Neurology           54\n",
      "2             3    Orthopedics           94\n",
      "3             4     Pediatrics           65\n",
      "4             5       Oncology           66\n"
     ]
    }
   ],
   "source": [
    "# -----------------------------------------\n",
    "# 1. Generate Department Table\n",
    "# -----------------------------------------\n",
    "\n",
    "departments = pd.DataFrame({\n",
    "    \"DepartmentID\": range(1, 6),\n",
    "    \"DepartmentName\": [\"Cardiology\", \"Neurology\", \"Orthopedics\", \"Pediatrics\", \"Oncology\"],\n",
    "    \"BedCapacity\" : np.random.randint(50, 120, 5)\n",
    "})\n",
    "departments.to_csv(f\"{output_folder}/departments.csv\", index=False)\n",
    "print(\"Department Table Created\")\n",
    "print(departments.head())"
   ]
  },
  {
   "cell_type": "code",
   "execution_count": 36,
   "id": "98a30d8b",
   "metadata": {},
   "outputs": [
    {
     "name": "stdout",
     "output_type": "stream",
     "text": [
      "Staff Profile Table Created\n",
      "   StaffID             Name  DepartmentID        Role  ExperienceYears  \\\n",
      "0        1    Joyce Robbins             3       Nurse                4   \n",
      "1        2   Willie Douglas             5  Technician               17   \n",
      "2        3  Jenna Valentine             3       Nurse               10   \n",
      "3        4      Samuel Lowe             3  Technician                1   \n",
      "4        5    Chelsea Casey             3      Doctor               11   \n",
      "\n",
      "                             Photo  \n",
      "0    https://picsum.photos/152/614  \n",
      "1    https://dummyimage.com/160x31  \n",
      "2  https://placekitten.com/731/790  \n",
      "3    https://picsum.photos/856/435  \n",
      "4    https://picsum.photos/258/161  \n"
     ]
    }
   ],
   "source": [
    "# -----------------------------------------\n",
    "# 2. Generate Staff Profile Table\n",
    "# -----------------------------------------\n",
    "\n",
    "staff_profiles = pd.DataFrame({\n",
    "    \"StaffID\": range(1, 11),\n",
    "    \"Name\" : [fake.name() for _ in range(10)],\n",
    "    \"DepartmentID\" : np.random.choice(departments[\"DepartmentID\"], 10),\n",
    "    \"Role\" : np.random.choice([\"Doctor\", \"Nurse\", \"Technician\"], 10),\n",
    "    \"ExperienceYears\" : np.random.randint(1, 20, 10),\n",
    "    \"Photo\" : [fake.image_url() for _ in range(10)]\n",
    "})\n",
    "staff_profiles.to_csv(f\"{output_folder}/staff_profiles.csv\", index=False)\n",
    "print(\"Staff Profile Table Created\")\n",
    "print(staff_profiles.head())"
   ]
  },
  {
   "cell_type": "code",
   "execution_count": 37,
   "id": "2dc97330",
   "metadata": {},
   "outputs": [
    {
     "name": "stdout",
     "output_type": "stream",
     "text": [
      "Patients Table Created\n",
      "   PatientID                 Name  Gender  Age\n",
      "0          1     Margaret Bradley    Male    1\n",
      "1          2      Craig Fernandez    Male   34\n",
      "2          3     Melanie Matthews    Male   85\n",
      "3          4  Danielle Mccullough  Female   10\n",
      "4          5  Stephanie Henderson    Male    5\n"
     ]
    }
   ],
   "source": [
    "# -----------------------------------------\n",
    "# 3. Generate Patient Table\n",
    "# -----------------------------------------\n",
    "\n",
    "patients = pd.DataFrame({\n",
    "    \"PatientID\": range(1, 1001),\n",
    "    \"Name\": [fake.name() for _ in range(1000)],\n",
    "    \"Gender\" : np.random.choice([\"Male\", \"Female\"], 1000),\n",
    "    \"Age\" : np.random.randint(1, 90, 1000)\n",
    "})\n",
    "patients.to_csv(f\"{output_folder}/patients.csv\", index=False)\n",
    "print(\"Patients Table Created\")\n",
    "print(patients.head())"
   ]
  },
  {
   "cell_type": "code",
   "execution_count": 38,
   "id": "b319dcba",
   "metadata": {},
   "outputs": [
    {
     "name": "stdout",
     "output_type": "stream",
     "text": [
      "Hospital Stay Table Created\n",
      "   StayID  PatientID  DepartementID  DoctorID AdmissionDate DischargeDate  \\\n",
      "0       1        515              5         4    2023-07-03    2023-07-09   \n",
      "1       2        471              4         6    2023-04-25    2023-04-26   \n",
      "2       3        239              3         6    2023-05-04    2023-05-11   \n",
      "3       4        289              5         8    2023-08-26    2023-08-29   \n",
      "4       5        368              4         8    2023-04-18    2023-04-26   \n",
      "\n",
      "   SatisfactionScore Readmission SeverityLevel     Cost      Diagnosis  \n",
      "0                4.2          No          High  6333.13       Migraine  \n",
      "1                4.7          No           Low  1683.77       Migraine  \n",
      "2                4.9          No        Medium  3526.87  Heart Disease  \n",
      "3                5.0          No           Low  1927.62         Asthma  \n",
      "4                4.9          No           Low  1717.63   Appendicitis  \n"
     ]
    }
   ],
   "source": [
    "# -----------------------------------------\n",
    "# 4. Hospital Stay Table\n",
    "# -----------------------------------------\n",
    "\n",
    "hospital_stay = pd.DataFrame({\n",
    "    \"StayID\" : range(1, 1501),\n",
    "    \"PatientID\" : np.random.choice(patients[\"PatientID\"], 1500),\n",
    "    \"DepartementID\" : np.random.choice(departments[\"DepartmentID\"], 1500),\n",
    "    \"DoctorID\" : np.random.choice(staff_profiles[\"StaffID\"], 1500),\n",
    "    \"AdmissionDate\" : pd.to_datetime(np.random.choice(pd.date_range(\"2023-01-01\", \"2023-12-31\"), 1500)),\n",
    "})\n",
    "\n",
    "# ✅ Add Discharge, Satisfaction, Readmission, and Severity Level\n",
    "hospital_stay[\"DischargeDate\"] = hospital_stay[\"AdmissionDate\"] + pd.to_timedelta(np.random.randint(1, 10, 1500), unit=\"D\")\n",
    "hospital_stay[\"SatisfactionScore\"] = np.round(np.random.uniform(3.5, 5, 1500), 1)\n",
    "hospital_stay[\"Readmission\"] = np.random.choice([\"Yes\", \"No\"], 1500, p=[0.15, 0.85])\n",
    "hospital_stay[\"SeverityLevel\"] = np.random.choice([\"Low\", \"Medium\", \"High\", \"Critical\"], 1500, p=[0.4, 0.3, 0.2, 0.1])\n",
    "\n",
    "# ✅ Add Cost Column based on Severity Level\n",
    "severitylevel_cost_mapping = {\n",
    "    \"Low\" : lambda: np.round(np.random.normal(1500, 300), 2),\n",
    "    \"Medium\" : lambda: np.round(np.random.normal(3500, 700), 2),\n",
    "    \"High\" : lambda: np.round(np.random.normal(6000, 1200), 2),\n",
    "    \"Critical\" : lambda: np.round(np.random.normal(10000, 2000), 2)\n",
    "}\n",
    "hospital_stay[\"Cost\"] = hospital_stay[\"SeverityLevel\"].apply(lambda s: severitylevel_cost_mapping[s]())\n",
    "\n",
    "diagnosis_list = [\n",
    "    \"Hypertension\", \"Diabetes\", \"Pneumonia\", \"Asthma\", \"Fracture\",\n",
    "    \"Migraine\", \"Cancer\", \"Infection\", \"Appendicitis\", \"Heart Disease\"\n",
    "]\n",
    "hospital_stay[\"Diagnosis\"] = np.random.choice(diagnosis_list, size=len(hospital_stay))\n",
    "\n",
    "hospital_stay.to_csv(f\"{output_folder}/hospital_stay.csv\", index=False)\n",
    "print(\"Hospital Stay Table Created\")\n",
    "print(hospital_stay.head())"
   ]
  },
  {
   "cell_type": "code",
   "execution_count": 53,
   "id": "cf550bb5",
   "metadata": {},
   "outputs": [
    {
     "name": "stdout",
     "output_type": "stream",
     "text": [
      "Department Daily Table Created\n",
      "   DepartmentID       Date  Admissions  Discharges  BedOccupancy\n",
      "0             1 2023-01-01           8           0            45\n",
      "1             1 2023-01-02           5           1            35\n",
      "2             1 2023-01-03           3           2            36\n",
      "3             1 2023-01-04          10           1            44\n",
      "4             1 2023-01-05           6           3            38\n"
     ]
    }
   ],
   "source": [
    "# -----------------------------------------\n",
    "# 5. Generate Department Daily Table\n",
    "# -----------------------------------------\n",
    "\n",
    "flu_sensitive_departments = [\"Pediatrics\", \"Oncology\"]\n",
    "\n",
    "department_daily = []\n",
    "for _, row in departments.iterrows():\n",
    "    previous_day_occupancy = 10  # Start with a base occupancy\n",
    "\n",
    "    for date in pd.date_range(\"2023-01-01\", \"2023-12-31\"):\n",
    "        flu_season = date.month in [1, 2, 12]\n",
    "        is_flu_sensitive = row.DepartmentName in flu_sensitive_departments\n",
    "\n",
    "        # Base admissions\n",
    "        admissions = random.randint(0, int(row.BedCapacity * 0.2))\n",
    "\n",
    "        # Increase admissions if flu season + sensitive department\n",
    "        if flu_season and is_flu_sensitive:\n",
    "            admissions += random.randint(0, int(row.BedCapacity * 0.2))\n",
    "\n",
    "        discharges = random.randint(0, admissions)\n",
    "\n",
    "        # Adjust bed occupancy based on season and department\n",
    "        if flu_season and is_flu_sensitive:\n",
    "            bed_occupancy = random.randint(int(row.BedCapacity * 0.7), row.BedCapacity)\n",
    "        else:\n",
    "            bed_occupancy = random.randint(int(row.BedCapacity * 0.4), int(row.BedCapacity * 0.85))\n",
    "\n",
    "        department_daily.append({\n",
    "            \"DepartmentID\": row.DepartmentID,\n",
    "            \"Date\": date,\n",
    "            \"Admissions\": admissions,\n",
    "            \"Discharges\": discharges,\n",
    "            \"BedOccupancy\": bed_occupancy,\n",
    "        })\n",
    "\n",
    "        previous_day_occupancy = bed_occupancy\n",
    "\n",
    "\n",
    "department_daily_df = pd.DataFrame(department_daily)\n",
    "department_daily_df.to_csv(f\"{output_folder}/department_daily.csv\", index=False)\n",
    "print(\"Department Daily Table Created\") \n",
    "print(department_daily_df.head())"
   ]
  },
  {
   "cell_type": "code",
   "execution_count": 29,
   "id": "bd6f724f",
   "metadata": {},
   "outputs": [
    {
     "name": "stdout",
     "output_type": "stream",
     "text": [
      "✅ All datasets have been successfully generated and saved in: Healthcare_Datasets\n"
     ]
    }
   ],
   "source": [
    "# ✅ Print confirmation message\n",
    "print(\"✅ All datasets have been successfully generated and saved in:\", output_folder)"
   ]
  },
  {
   "cell_type": "code",
   "execution_count": null,
   "id": "4d19a705",
   "metadata": {},
   "outputs": [],
   "source": []
  }
 ],
 "metadata": {
  "kernelspec": {
   "display_name": "Python 3",
   "language": "python",
   "name": "python3"
  },
  "language_info": {
   "codemirror_mode": {
    "name": "ipython",
    "version": 3
   },
   "file_extension": ".py",
   "mimetype": "text/x-python",
   "name": "python",
   "nbconvert_exporter": "python",
   "pygments_lexer": "ipython3",
   "version": "3.9.13"
  }
 },
 "nbformat": 4,
 "nbformat_minor": 5
}
